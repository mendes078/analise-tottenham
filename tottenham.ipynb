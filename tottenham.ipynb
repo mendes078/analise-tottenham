{
 "cells": [
  {
   "cell_type": "code",
   "execution_count": null,
   "id": "37068714-4ff9-4b55-adb0-de3674d15c17",
   "metadata": {},
   "outputs": [],
   "source": []
  }
 ],
 "metadata": {
  "kernelspec": {
   "display_name": "",
   "name": ""
  },
  "language_info": {
   "name": ""
  }
 },
 "nbformat": 4,
 "nbformat_minor": 5
}
