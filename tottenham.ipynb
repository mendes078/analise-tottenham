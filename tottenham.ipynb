{
 "cells": [
  {
   "cell_type": "markdown",
   "id": "5dac28de-41cf-4db9-9aad-ae4bc95ced65",
   "metadata": {},
   "source": [
    "O **Tottenham Hotspur Football Club**, mais conhecido somente como **Tottenham** ou **Spurs**, se trata de um clube de futebol profissional com sede no norte da cidade de Londres, na Inglaterra. Fundado em 1882, o clube possui uma rica história tanto em seu próprio país de origem quanto no continente europeu, como um todo.\n",
    "\n",
    "Os Spurs mandam suas partidas no **Tottenham Hotspur Stadium**. Inaugurado em 2019, o estádio possui capacidade para cerca de 62.850 espectadores e é considerado um dos mais modernos do mundo devido a sua infraestrutura. De 1889 a 2017, o clube mandava seus jogos no **White Hart Lane**, estádio antigamente localizado nos subúrbios do bairro de Tottenham, em Londres.\n",
    "\n",
    "Entre suas conquistas mais notáveis, estão:\n",
    "\n",
    "- **2 títulos do Campeonato Inglês (atualmente Premier League)**\n",
    "- **8 títulos da Copa da Inglaterra (FA Cup)**\n",
    "- **4 títulos da Copa da Liga Inglesa**\n",
    "- **3 títulos da UEFA Europa League (segunda competição mais relevante do continente europeu)**\n",
    "\n",
    "Os Spurs, como esperado de um clube com tamanha história, tiveram muitos técnicos durante os anos. Porém, um deles se destacou em meio a tantos por conta de ter participado de um feito inédito nos tantos anos de existência do clube, que é ter chegado a final da maior competição do continente europeu: a **Liga dos Campeões da Europa** ou **_UEFA Champions League_**. Seu nome é **Mauricio Pochettino**.\n",
    "Mauricio Pochettino chegou ao Tottenham em maio de 2014 e permaneceu no cargo até novembro de 2019. Durante este período, o clube passou por altos e baixos nas temporadas que disputou.\n",
    "\n",
    "O principal objetivo com a realização desta análise é resolver a seguinte incógnita:\n",
    "\n",
    "- **Como era o desempenho da equipe nos jogos com o Pochettino como técnico e como está sendo nas últimas temporadas sem ele?**\n",
    "\n",
    "A fim de resolver esta questão, estaremos analisando diferentes elementos que determinam o quão consistente foi o trabalho de Pochettino à frente do time do norte de Londres. Entre alguns deles, estão:\n",
    "\n",
    "- **Média de gols marcados e sofridos por temporada**\n",
    "- **Taxa de vitórias, empates e derrotas ao longo dos anos**\n",
    "- **Desempenho em jogos como mandante e como visitante**\n",
    "- **Posse de bola em diferentes resultados**"
   ]
  },
  {
   "cell_type": "markdown",
   "id": "c145fdbd-b780-4211-8d59-8f6da6088cf6",
   "metadata": {},
   "source": [
    "Para começarmos o processo da análise, precisamos importar as bibliotecas necessárias para realizá-la."
   ]
  },
  {
   "cell_type": "code",
   "execution_count": 1,
   "id": "9db0ca84-1b15-4673-86ab-f3942d979576",
   "metadata": {},
   "outputs": [],
   "source": [
    "import pandas as pd                                 # Biblioteca para manipulação de dados\n",
    "import matplotlib.pyplot as plt                     # Biblioteca para criação de gráficos"
   ]
  },
  {
   "cell_type": "code",
   "execution_count": 3,
   "id": "f81384f4-e686-4e2f-85a2-1c8bf0724b10",
   "metadata": {},
   "outputs": [
    {
     "name": "stdout",
     "output_type": "stream",
     "text": [
      "<class 'pandas.core.frame.DataFrame'>\n",
      "RangeIndex: 699 entries, 0 to 698\n",
      "Data columns (total 30 columns):\n",
      " #   Column                     Non-Null Count  Dtype  \n",
      "---  ------                     --------------  -----  \n",
      " 0   Date                       699 non-null    object \n",
      " 1   Opponent                   699 non-null    object \n",
      " 2   Is_Home                    699 non-null    int64  \n",
      " 3   Result                     699 non-null    int64  \n",
      " 4   Goals                      699 non-null    int64  \n",
      " 5   Opponent_Goals             699 non-null    int64  \n",
      " 6   Possession                 699 non-null    int64  \n",
      " 7   Shots                      699 non-null    int64  \n",
      " 8   Shots_On_Target            699 non-null    int64  \n",
      " 9   Passes_Completed           699 non-null    int64  \n",
      " 10  Pass_Accuracy              699 non-null    int64  \n",
      " 11  Corners                    699 non-null    int64  \n",
      " 12  Crosses                    699 non-null    int64  \n",
      " 13  Fouls                      699 non-null    int64  \n",
      " 14  Offsides                   699 non-null    int64  \n",
      " 15  Opponent_Possession        699 non-null    int64  \n",
      " 16  Opponent_Shots             699 non-null    int64  \n",
      " 17  Opponent_Shots_On_Target   699 non-null    int64  \n",
      " 18  Opponent_Passes_Completed  699 non-null    int64  \n",
      " 19  Opponent_Pass_Accuracy     699 non-null    int64  \n",
      " 20  Opponent_Corners           699 non-null    int64  \n",
      " 21  Opponent_Crosses           699 non-null    int64  \n",
      " 22  Opponent_Fouls             699 non-null    int64  \n",
      " 23  Opponent_Offsides          699 non-null    int64  \n",
      " 24  Shot_Efficiency            699 non-null    float64\n",
      " 25  Season                     699 non-null    int64  \n",
      " 26  Month                      699 non-null    int64  \n",
      " 27  Day_of_Week                699 non-null    int64  \n",
      " 28  Last5_Avg_Goals            699 non-null    float64\n",
      " 29  Last5_Win_Rate             699 non-null    float64\n",
      "dtypes: float64(3), int64(25), object(2)\n",
      "memory usage: 164.0+ KB\n"
     ]
    }
   ],
   "source": [
    "tottenham = pd.read_csv(\"tottenham.csv\")\n",
    "tottenham.info()"
   ]
  },
  {
   "cell_type": "code",
   "execution_count": null,
   "id": "730cfd65-5f24-4409-aabe-b82b161055d6",
   "metadata": {},
   "outputs": [],
   "source": []
  }
 ],
 "metadata": {
  "kernelspec": {
   "display_name": "Python 3 (ipykernel)",
   "language": "python",
   "name": "python3"
  },
  "language_info": {
   "codemirror_mode": {
    "name": "ipython",
    "version": 3
   },
   "file_extension": ".py",
   "mimetype": "text/x-python",
   "name": "python",
   "nbconvert_exporter": "python",
   "pygments_lexer": "ipython3",
   "version": "3.13.2"
  }
 },
 "nbformat": 4,
 "nbformat_minor": 5
}
